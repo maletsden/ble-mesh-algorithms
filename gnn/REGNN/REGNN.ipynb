{
 "cells": [
  {
   "cell_type": "code",
   "execution_count": 8,
   "metadata": {
    "collapsed": true
   },
   "outputs": [],
   "source": [
    "import numpy as np\n",
    "from numba import njit\n",
    "import torch"
   ]
  },
  {
   "cell_type": "code",
   "execution_count": 9,
   "outputs": [],
   "source": [
    "def generate_positions(dims=(100, 100), n=64):\n",
    "    return np.random.uniform(0, dims, (n, 2))"
   ],
   "metadata": {
    "collapsed": false,
    "pycharm": {
     "name": "#%%\n"
    }
   }
  },
  {
   "cell_type": "code",
   "execution_count": 10,
   "outputs": [
    {
     "data": {
      "text/plain": "array([[1.12706016, 3.61816813],\n       [8.08691906, 3.99137426],\n       [9.28175179, 0.62590078],\n       [8.44526255, 0.46204624],\n       [2.28119671, 6.93673565]])"
     },
     "execution_count": 10,
     "metadata": {},
     "output_type": "execute_result"
    }
   ],
   "source": [
    "positions = generate_positions(dims=(10, 10), n=5); positions"
   ],
   "metadata": {
    "collapsed": false,
    "pycharm": {
     "name": "#%%\n"
    }
   }
  },
  {
   "cell_type": "code",
   "execution_count": 11,
   "outputs": [],
   "source": [
    "@njit\n",
    "def distance_matrix_squared(pts):\n",
    "    n = pts.shape[0]\n",
    "    p = pts.shape[1]\n",
    "    dist = np.zeros((n, n))\n",
    "    for i in range(n):\n",
    "        for j in range(n):\n",
    "            s = 0\n",
    "            for k in range(p):\n",
    "                s += (pts[i, k] - pts[j, k])**2\n",
    "            dist[i, j] = s\n",
    "    return dist"
   ],
   "metadata": {
    "collapsed": false,
    "pycharm": {
     "name": "#%%\n"
    }
   }
  },
  {
   "cell_type": "code",
   "execution_count": 12,
   "outputs": [],
   "source": [
    "# ignore \"divide by zero\" warning\n",
    "def channel_gain_matrix(positions, wavelength):\n",
    "    L_p0 = (wavelength / (4 * np.pi)) ** 2\n",
    "\n",
    "    # TODO: add shadow and multipath\n",
    "    H = L_p0 / distance_matrix_squared(positions)\n",
    "    np.fill_diagonal(H, 0)\n",
    "    return H"
   ],
   "metadata": {
    "collapsed": false,
    "pycharm": {
     "name": "#%%\n"
    }
   }
  },
  {
   "cell_type": "code",
   "execution_count": 13,
   "outputs": [],
   "source": [
    "wavelengths = {\n",
    "    \"channel_37\": 0.1249135, # m (2.400 GHz)\n",
    "    \"channel_38\": 0.1235748, # m (2.426 GHz)\n",
    "    \"channel_39\": 0.1208840, # m (2.480 GHz)\n",
    "}\n",
    "P_max = 10 # mW\n",
    "noise = 0\n",
    "shift_matrix_indicator = {\n",
    "    \"M\" : 1,\n",
    "    \"nu\": 1\n",
    "}"
   ],
   "metadata": {
    "collapsed": false,
    "pycharm": {
     "name": "#%%\n"
    }
   }
  },
  {
   "cell_type": "code",
   "execution_count": 14,
   "outputs": [
    {
     "name": "stderr",
     "output_type": "stream",
     "text": [
      "<ipython-input-12-e8ec87e6f9f0>:6: RuntimeWarning: divide by zero encountered in true_divide\n",
      "  H = L_p0 / distance_matrix_squared(positions)\n"
     ]
    },
    {
     "data": {
      "text/plain": "array([[0.00000000e+00, 2.03400109e-06, 1.30955720e-06, 1.55563512e-06,\n        8.00406653e-06],\n       [2.03400109e-06, 0.00000000e+00, 7.74731747e-06, 7.85164712e-06,\n        2.33142811e-06],\n       [1.30955720e-06, 7.74731747e-06, 0.00000000e+00, 1.35995961e-04,\n        1.11228944e-06],\n       [1.55563512e-06, 7.85164712e-06, 1.35995961e-04, 0.00000000e+00,\n        1.23639764e-06],\n       [8.00406653e-06, 2.33142811e-06, 1.11228944e-06, 1.23639764e-06,\n        0.00000000e+00]])"
     },
     "execution_count": 14,
     "metadata": {},
     "output_type": "execute_result"
    }
   ],
   "source": [
    "H = channel_gain_matrix(positions, wavelengths[\"channel_37\"]); H"
   ],
   "metadata": {
    "collapsed": false,
    "pycharm": {
     "name": "#%%\n"
    }
   }
  },
  {
   "cell_type": "code",
   "execution_count": 15,
   "outputs": [
    {
     "data": {
      "text/plain": "array([7.51518882, 1.53526905, 5.53704228, 2.70820626, 7.05643357])"
     },
     "execution_count": 15,
     "metadata": {},
     "output_type": "execute_result"
    }
   ],
   "source": [
    "tx_powers = np.random.uniform(0, P_max, len(positions)); tx_powers # in mW"
   ],
   "metadata": {
    "collapsed": false,
    "pycharm": {
     "name": "#%%\n"
    }
   }
  },
  {
   "cell_type": "code",
   "execution_count": 16,
   "outputs": [],
   "source": [
    "def calc_rssi_map(H, tx_powers):\n",
    "    return H * tx_powers"
   ],
   "metadata": {
    "collapsed": false,
    "pycharm": {
     "name": "#%%\n"
    }
   }
  },
  {
   "cell_type": "code",
   "execution_count": 17,
   "outputs": [
    {
     "data": {
      "text/plain": "array([[0.00000000e+00, 3.12273893e-06, 7.25107361e-06, 4.21298077e-06,\n        5.64801637e-05],\n       [1.52859023e-05, 0.00000000e+00, 4.28972244e-05, 2.12638799e-05,\n        1.64515676e-05],\n       [9.84156966e-06, 1.18942168e-05, 0.00000000e+00, 3.68305115e-04,\n        7.84879651e-06],\n       [1.16908916e-05, 1.20543908e-05, 7.53015389e-04, 0.00000000e+00,\n        8.72455777e-06],\n       [6.01520713e-05, 3.57936943e-06, 6.15879364e-06, 3.34841982e-06,\n        0.00000000e+00]])"
     },
     "execution_count": 17,
     "metadata": {},
     "output_type": "execute_result"
    }
   ],
   "source": [
    "rssi_map = calc_rssi_map(H, tx_powers); rssi_map"
   ],
   "metadata": {
    "collapsed": false,
    "pycharm": {
     "name": "#%%\n"
    }
   }
  },
  {
   "cell_type": "code",
   "execution_count": 18,
   "outputs": [],
   "source": [
    "@njit\n",
    "def calc_sinr_matrix(rssi_map):\n",
    "    n = rssi_map.shape[0]\n",
    "    sinr_matrix = np.empty(rssi_map.shape)\n",
    "    totals = np.sum(rssi_map, axis=1) + noise\n",
    "    for i in range(n):\n",
    "        sinr_matrix[i, :] = rssi_map[i, :] / (totals[i] - rssi_map[i, :])\n",
    "    return sinr_matrix"
   ],
   "metadata": {
    "collapsed": false,
    "pycharm": {
     "name": "#%%\n"
    }
   }
  },
  {
   "cell_type": "code",
   "execution_count": 19,
   "outputs": [
    {
     "data": {
      "text/plain": "array([[0.00000000e+00, 4.59603336e-02, 1.13624904e-01, 6.30176544e-02,\n        3.87200686e+00],\n       [1.89621580e-01, 0.00000000e+00, 8.09360981e-01, 2.84906103e-01,\n        2.07075991e-01],\n       [2.53617244e-02, 3.08143939e-02, 0.00000000e+00, 1.24492245e+01,\n        2.01230089e-02],\n       [1.51085257e-02, 1.55856093e-02, 2.31912255e+01, 0.00000000e+00,\n        1.12319767e-02],\n       [4.59646890e+00, 5.13839533e-02, 9.18128570e-02, 4.79096951e-02,\n        0.00000000e+00]])"
     },
     "execution_count": 19,
     "metadata": {},
     "output_type": "execute_result"
    }
   ],
   "source": [
    "sinr_matrix = calc_sinr_matrix(rssi_map); sinr_matrix"
   ],
   "metadata": {
    "collapsed": false,
    "pycharm": {
     "name": "#%%\n"
    }
   }
  },
  {
   "cell_type": "code",
   "execution_count": 20,
   "outputs": [],
   "source": [
    "def calc_shannon_capacity_matrix(sinr_matrix):\n",
    "    return np.log2(1 + sinr_matrix)"
   ],
   "metadata": {
    "collapsed": false,
    "pycharm": {
     "name": "#%%\n"
    }
   }
  },
  {
   "cell_type": "code",
   "execution_count": 21,
   "outputs": [
    {
     "data": {
      "text/plain": "array([[0.        , 0.06482814, 0.15526338, 0.08816556, 2.28451616],\n       [0.25050272, 0.        , 0.85548026, 0.36166294, 0.2715165 ],\n       [0.03613295, 0.04378459, 0.        , 3.74945108, 0.02874313],\n       [0.02163397, 0.02231186, 4.59641195, 0.        , 0.01611399],\n       [2.48451684, 0.07228962, 0.12672559, 0.0675144 , 0.        ]])"
     },
     "execution_count": 21,
     "metadata": {},
     "output_type": "execute_result"
    }
   ],
   "source": [
    "shannon_capacity_matrix = calc_shannon_capacity_matrix(sinr_matrix); shannon_capacity_matrix"
   ],
   "metadata": {
    "collapsed": false,
    "pycharm": {
     "name": "#%%\n"
    }
   }
  },
  {
   "cell_type": "code",
   "execution_count": 23,
   "outputs": [],
   "source": [
    "def calc_shift_matrix(H, noise=1):\n",
    "    n = H.shape[0]\n",
    "\n",
    "    # shifted diagonal\n",
    "    diag = np.array([H[i, (i+1) % n] for i in range(n)])\n",
    "    indicator = np.empty(H.shape)\n",
    "    for i in range(len(H)):\n",
    "        indicator[i, :] = np.minimum(H[i, (i+1) % n], diag)\n",
    "\n",
    "    nu = shift_matrix_indicator[\"nu\"]\n",
    "    M = shift_matrix_indicator[\"M\"]\n",
    "\n",
    "    constant = M * ((P_max / noise) ** (nu - 1))\n",
    "    indicator = constant * (indicator ** nu)\n",
    "\n",
    "    indicator = H >= indicator\n",
    "    return np.multiply(H, indicator)"
   ],
   "metadata": {
    "collapsed": false,
    "pycharm": {
     "name": "#%%\n"
    }
   }
  },
  {
   "cell_type": "code",
   "execution_count": 24,
   "outputs": [
    {
     "data": {
      "text/plain": "array([[0.00000000e+00, 2.03400109e-06, 0.00000000e+00, 1.55563512e-06,\n        8.00406653e-06],\n       [2.03400109e-06, 0.00000000e+00, 7.74731747e-06, 7.85164712e-06,\n        0.00000000e+00],\n       [0.00000000e+00, 7.74731747e-06, 0.00000000e+00, 1.35995961e-04,\n        0.00000000e+00],\n       [1.55563512e-06, 7.85164712e-06, 1.35995961e-04, 0.00000000e+00,\n        1.23639764e-06],\n       [8.00406653e-06, 0.00000000e+00, 0.00000000e+00, 1.23639764e-06,\n        0.00000000e+00]])"
     },
     "execution_count": 24,
     "metadata": {},
     "output_type": "execute_result"
    }
   ],
   "source": [
    "shift_matrix = calc_shift_matrix(H); shift_matrix"
   ],
   "metadata": {
    "collapsed": false,
    "pycharm": {
     "name": "#%%\n"
    }
   }
  },
  {
   "cell_type": "code",
   "execution_count": 25,
   "outputs": [],
   "source": [
    "def z(alpha, S, y):\n",
    "    S_ = S\n",
    "    zz = alpha[0] * np.dot(S_, y)\n",
    "    for k in range(1, len(alpha)):\n",
    "        S_ = np.dot(S_, S)\n",
    "        zz += alpha[k] * np.dot(S_, y)\n",
    "    return zz"
   ],
   "metadata": {
    "collapsed": false,
    "pycharm": {
     "name": "#%%\n"
    }
   }
  },
  {
   "cell_type": "code",
   "execution_count": 26,
   "outputs": [
    {
     "data": {
      "text/plain": "array([6.38196670e-06, 7.94654919e-06, 3.80414208e-05, 7.85590243e-05,\n       6.35034550e-06])"
     },
     "execution_count": 26,
     "metadata": {},
     "output_type": "execute_result"
    }
   ],
   "source": [
    "z_l = z([0.1, 0.2], shift_matrix, tx_powers); z_l"
   ],
   "metadata": {
    "collapsed": false,
    "pycharm": {
     "name": "#%%\n"
    }
   }
  },
  {
   "cell_type": "code",
   "execution_count": 27,
   "outputs": [],
   "source": [
    "def ReLU(z_l):\n",
    "    return np.maximum(0, z_l)"
   ],
   "metadata": {
    "collapsed": false,
    "pycharm": {
     "name": "#%%\n"
    }
   }
  },
  {
   "cell_type": "code",
   "execution_count": 28,
   "outputs": [
    {
     "data": {
      "text/plain": "array([6.38196670e-06, 7.94654919e-06, 3.80414208e-05, 7.85590243e-05,\n       6.35034550e-06])"
     },
     "execution_count": 28,
     "metadata": {},
     "output_type": "execute_result"
    }
   ],
   "source": [
    "y_l = ReLU(z_l); y_l"
   ],
   "metadata": {
    "collapsed": false,
    "pycharm": {
     "name": "#%%\n"
    }
   }
  },
  {
   "cell_type": "code",
   "execution_count": null,
   "outputs": [],
   "source": [],
   "metadata": {
    "collapsed": false,
    "pycharm": {
     "name": "#%%\n"
    }
   }
  }
 ],
 "metadata": {
  "kernelspec": {
   "display_name": "Python 3",
   "language": "python",
   "name": "python3"
  },
  "language_info": {
   "codemirror_mode": {
    "name": "ipython",
    "version": 2
   },
   "file_extension": ".py",
   "mimetype": "text/x-python",
   "name": "python",
   "nbconvert_exporter": "python",
   "pygments_lexer": "ipython2",
   "version": "2.7.6"
  }
 },
 "nbformat": 4,
 "nbformat_minor": 0
}